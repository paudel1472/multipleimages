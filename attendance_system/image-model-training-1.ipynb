{
 "cells": [
  {
   "cell_type": "code",
   "execution_count": 1,
   "id": "a72cbac0",
   "metadata": {},
   "outputs": [],
   "source": [
    "import tensorflow as tf\n",
    "import numpy as np\n",
    "from tensorflow import keras\n",
    "import os\n",
    "import cv2\n",
    "from tensorflow.keras.preprocessing.image import ImageDataGenerator\n",
    "from tensorflow.keras.preprocessing import image\n",
    "import matplotlib.pyplot as plt\n",
    "from keras.layers import Conv2D, MaxPooling2D, BatchNormalization,Flatten"
   ]
  },
  {
   "cell_type": "code",
   "execution_count": 2,
   "id": "2a6621db",
   "metadata": {},
   "outputs": [],
   "source": [
    "# Use data augmentation for the training data\n",
    "train_datagen = ImageDataGenerator(\n",
    "    rescale=1/255,\n",
    "    rotation_range=40,\n",
    "    width_shift_range=0.2,\n",
    "    height_shift_range=0.2,\n",
    "    shear_range=0.2,\n",
    "    zoom_range=0.2,\n",
    "    horizontal_flip=True,\n",
    "    fill_mode='nearest'\n",
    ")\n",
    "\n",
    "# Do not use data augmentation for the test data\n",
    "test_datagen = ImageDataGenerator(rescale=1/255)"
   ]
  },
  {
   "cell_type": "code",
   "execution_count": 3,
   "id": "b8b0b6c3",
   "metadata": {},
   "outputs": [
    {
     "name": "stdout",
     "output_type": "stream",
     "text": [
      "Found 7203 images belonging to 9 classes.\n",
      "Found 1804 images belonging to 9 classes.\n"
     ]
    }
   ],
   "source": [
    "train_data = train_datagen.flow_from_directory(\n",
    "    'E:/multipleimages/train',\n",
    "    target_size=(150,150),\n",
    "    batch_size=32,\n",
    "    class_mode='categorical'\n",
    ")\n",
    "\n",
    "test_data = test_datagen.flow_from_directory(\n",
    "    'E:/multipleimages/test',\n",
    "    target_size=(150,150),\n",
    "    batch_size=32,\n",
    "    class_mode='categorical'\n",
    ")"
   ]
  },
  {
   "cell_type": "code",
   "execution_count": 4,
   "id": "e4b76f39",
   "metadata": {},
   "outputs": [
    {
     "data": {
      "text/plain": [
       "{'image_0': 0,\n",
       " 'image_1': 1,\n",
       " 'image_2': 2,\n",
       " 'image_3': 3,\n",
       " 'image_4': 4,\n",
       " 'image_5': 5,\n",
       " 'image_6': 6,\n",
       " 'image_7': 7,\n",
       " 'pratik': 8}"
      ]
     },
     "execution_count": 4,
     "metadata": {},
     "output_type": "execute_result"
    }
   ],
   "source": [
    "train_data.class_indices"
   ]
  },
  {
   "cell_type": "code",
   "execution_count": 5,
   "id": "7dc85551",
   "metadata": {},
   "outputs": [],
   "source": [
    "model = keras.Sequential()\n",
    "model.add(keras.layers.Conv2D(64,(3,3),activation='relu',input_shape=(150,150,3)))\n",
    "model.add(keras.layers.MaxPool2D(2,2))\n",
    "\n",
    "model.add(keras.layers.Conv2D(64,(3,3),activation='relu'))\n",
    "model.add(keras.layers.MaxPool2D(2,2))\n",
    "\n",
    "model.add(keras.layers.Conv2D(64,(3,3),activation='relu'))\n",
    "model.add(keras.layers.MaxPool2D(2,2))\n",
    "\n",
    "model.add(keras.layers.Conv2D(64,(3,3),activation='relu'))\n",
    "model.add(keras.layers.MaxPool2D(2,2))\n",
    "\n",
    "model.add(keras.layers.Flatten())\n",
    "model.add(keras.layers.Dropout(0.5)) # Add dropout regularization\n",
    "model.add(keras.layers.Dense(512,activation='relu'))\n",
    "model.add(keras.layers.Dense(9,activation='softmax'))"
   ]
  },
  {
   "cell_type": "code",
   "execution_count": 6,
   "id": "43e14e45",
   "metadata": {},
   "outputs": [
    {
     "name": "stdout",
     "output_type": "stream",
     "text": [
      "Model: \"sequential\"\n",
      "_________________________________________________________________\n",
      " Layer (type)                Output Shape              Param #   \n",
      "=================================================================\n",
      " conv2d (Conv2D)             (None, 148, 148, 64)      1792      \n",
      "                                                                 \n",
      " max_pooling2d (MaxPooling2D  (None, 74, 74, 64)       0         \n",
      " )                                                               \n",
      "                                                                 \n",
      " conv2d_1 (Conv2D)           (None, 72, 72, 64)        36928     \n",
      "                                                                 \n",
      " max_pooling2d_1 (MaxPooling  (None, 36, 36, 64)       0         \n",
      " 2D)                                                             \n",
      "                                                                 \n",
      " conv2d_2 (Conv2D)           (None, 34, 34, 64)        36928     \n",
      "                                                                 \n",
      " max_pooling2d_2 (MaxPooling  (None, 17, 17, 64)       0         \n",
      " 2D)                                                             \n",
      "                                                                 \n",
      " conv2d_3 (Conv2D)           (None, 15, 15, 64)        36928     \n",
      "                                                                 \n",
      " max_pooling2d_3 (MaxPooling  (None, 7, 7, 64)         0         \n",
      " 2D)                                                             \n",
      "                                                                 \n",
      " flatten (Flatten)           (None, 3136)              0         \n",
      "                                                                 \n",
      " dropout (Dropout)           (None, 3136)              0         \n",
      "                                                                 \n",
      " dense (Dense)               (None, 512)               1606144   \n",
      "                                                                 \n",
      " dense_1 (Dense)             (None, 9)                 4617      \n",
      "                                                                 \n",
      "=================================================================\n",
      "Total params: 1,723,337\n",
      "Trainable params: 1,723,337\n",
      "Non-trainable params: 0\n",
      "_________________________________________________________________\n"
     ]
    }
   ],
   "source": [
    "model.summary()"
   ]
  },
  {
   "cell_type": "code",
   "execution_count": 7,
   "id": "15f6de89",
   "metadata": {},
   "outputs": [],
   "source": [
    "# Use a smaller learning rate for the optimizer\n",
    "optimizer = keras.optimizers.Adam(learning_rate=0.001)"
   ]
  },
  {
   "cell_type": "code",
   "execution_count": 8,
   "id": "10ca2638",
   "metadata": {},
   "outputs": [],
   "source": [
    "model.compile(optimizer=optimizer,loss='categorical_crossentropy',metrics=['accuracy'])"
   ]
  },
  {
   "cell_type": "code",
   "execution_count": 9,
   "id": "bd7e64fc",
   "metadata": {},
   "outputs": [
    {
     "name": "stdout",
     "output_type": "stream",
     "text": [
      "Epoch 1/10\n",
      "226/226 [==============================] - 162s 713ms/step - loss: 0.4375 - accuracy: 0.8308 - val_loss: 0.0499 - val_accuracy: 0.9806\n",
      "Epoch 2/10\n",
      "226/226 [==============================] - 164s 724ms/step - loss: 0.0813 - accuracy: 0.9738 - val_loss: 0.0011 - val_accuracy: 1.0000\n",
      "Epoch 3/10\n",
      "226/226 [==============================] - 161s 710ms/step - loss: 0.0497 - accuracy: 0.9843 - val_loss: 0.0022 - val_accuracy: 1.0000\n",
      "Epoch 4/10\n",
      "226/226 [==============================] - 158s 700ms/step - loss: 0.0726 - accuracy: 0.9764 - val_loss: 0.0014 - val_accuracy: 1.0000\n",
      "Epoch 5/10\n",
      "226/226 [==============================] - 163s 722ms/step - loss: 0.0148 - accuracy: 0.9958 - val_loss: 0.0039 - val_accuracy: 0.9983\n",
      "Epoch 6/10\n",
      "226/226 [==============================] - 169s 746ms/step - loss: 0.0148 - accuracy: 0.9953 - val_loss: 9.5312e-06 - val_accuracy: 1.0000\n",
      "Epoch 7/10\n",
      "226/226 [==============================] - 165s 731ms/step - loss: 0.0483 - accuracy: 0.9875 - val_loss: 0.0096 - val_accuracy: 0.9972\n",
      "Epoch 8/10\n",
      "226/226 [==============================] - 164s 727ms/step - loss: 0.0258 - accuracy: 0.9922 - val_loss: 1.0293e-04 - val_accuracy: 1.0000\n",
      "Epoch 9/10\n",
      "226/226 [==============================] - 170s 753ms/step - loss: 0.0519 - accuracy: 0.9860 - val_loss: 2.0428e-05 - val_accuracy: 1.0000\n",
      "Epoch 10/10\n",
      "226/226 [==============================] - 170s 750ms/step - loss: 0.0113 - accuracy: 0.9968 - val_loss: 0.0046 - val_accuracy: 0.9978\n"
     ]
    }
   ],
   "source": [
    "# Train the model for more epochs\n",
    "history = model.fit(train_data,epochs = 10, validation_data=test_data)"
   ]
  },
  {
   "cell_type": "code",
   "execution_count": 10,
   "id": "779fb13d",
   "metadata": {},
   "outputs": [
    {
     "data": {
      "text/plain": [
       "<matplotlib.legend.Legend at 0x2453897cd00>"
      ]
     },
     "execution_count": 10,
     "metadata": {},
     "output_type": "execute_result"
    },
    {
     "data": {
      "image/png": "[encoded data removed]",
      "text/plain": [
       "<Figure size 640x480 with 1 Axes>"
      ]
     },
     "metadata": {},
     "output_type": "display_data"
    }
   ],
   "source": [
    "plt.plot(history.history['loss'], label='loss')\n",
    "plt.plot(history.history['val_loss'],label='val_loss')\n",
    "plt.legend()"
   ]
  },
  {
   "cell_type": "code",
   "execution_count": 11,
   "id": "b064bd6f",
   "metadata": {},
   "outputs": [],
   "source": [
    "# model.save('main_faces.h5')"
   ]
  },
  {
   "cell_type": "code",
   "execution_count": 12,
   "id": "09ac8b67",
   "metadata": {},
   "outputs": [],
   "source": [
    "# fer_json = model.to_json()\n",
    "# with open(\"main_faces1.json\", \"w\") as json_file:\n",
    "#     json_file.write(fer_json)"
   ]
  },
  {
   "cell_type": "code",
   "execution_count": null,
   "id": "b9f2b00c",
   "metadata": {},
   "outputs": [],
   "source": []
  }
 ],
 "metadata": {
  "kernelspec": {
   "display_name": "Python 3 (ipykernel)",
   "language": "python",
   "name": "python3"
  },
  "language_info": {
   "codemirror_mode": {
    "name": "ipython",
    "version": 3
   },
   "file_extension": ".py",
   "mimetype": "text/x-python",
   "name": "python",
   "nbconvert_exporter": "python",
   "pygments_lexer": "ipython3",
   "version": "3.10.9"
  }
 },
 "nbformat": 4,
 "nbformat_minor": 5
}
